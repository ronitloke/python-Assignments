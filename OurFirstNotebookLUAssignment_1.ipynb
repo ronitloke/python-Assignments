{
  "nbformat": 4,
  "nbformat_minor": 0,
  "metadata": {
    "colab": {
      "name": "OurFirstNotebookLUAssignment 1.ipynb",
      "provenance": [],
      "authorship_tag": "ABX9TyNFslkzMMv7gSo7UBT3l3QS",
      "include_colab_link": true
    },
    "kernelspec": {
      "name": "python3",
      "display_name": "Python 3"
    },
    "language_info": {
      "name": "python"
    }
  },
  "cells": [
    {
      "cell_type": "markdown",
      "metadata": {
        "id": "view-in-github",
        "colab_type": "text"
      },
      "source": [
        "<a href=\"https://colab.research.google.com/github/ronitloke/python-Assignments/blob/main/OurFirstNotebookLUAssignment_1.ipynb\" target=\"_parent\"><img src=\"https://colab.research.google.com/assets/colab-badge.svg\" alt=\"Open In Colab\"/></a>"
      ]
    },
    {
      "cell_type": "code",
      "metadata": {
        "id": "o45WWFoyi22Y"
      },
      "source": [
        ""
      ],
      "execution_count": null,
      "outputs": []
    },
    {
      "cell_type": "code",
      "metadata": {
        "colab": {
          "base_uri": "https://localhost:8080/"
        },
        "id": "KD4TQZUtit6t",
        "outputId": "82475925-f4fc-4b9d-d8ad-444d3a584fad"
      },
      "source": [
        "print(\"Hello World\")"
      ],
      "execution_count": 1,
      "outputs": [
        {
          "output_type": "stream",
          "name": "stdout",
          "text": [
            "Hello World\n"
          ]
        }
      ]
    },
    {
      "cell_type": "code",
      "metadata": {
        "colab": {
          "base_uri": "https://localhost:8080/"
        },
        "id": "BP82x2N7i25h",
        "outputId": "16e4170f-f79e-4749-fca2-96085eea1fab"
      },
      "source": [
        "print(\"My name is Ronit\")"
      ],
      "execution_count": 2,
      "outputs": [
        {
          "output_type": "stream",
          "name": "stdout",
          "text": [
            "My name is Ronit\n"
          ]
        }
      ]
    },
    {
      "cell_type": "code",
      "metadata": {
        "id": "P2DEA_Xqi27R"
      },
      "source": [
        "list = [\"10\", \"20\", \"30\"]"
      ],
      "execution_count": 6,
      "outputs": []
    },
    {
      "cell_type": "code",
      "metadata": {
        "colab": {
          "base_uri": "https://localhost:8080/"
        },
        "id": "5iMrvdvVi29W",
        "outputId": "52625df2-b673-4db9-ad4f-39fad1998ca1"
      },
      "source": [
        "list"
      ],
      "execution_count": 7,
      "outputs": [
        {
          "output_type": "execute_result",
          "data": {
            "text/plain": [
              "['10', '20', '30']"
            ]
          },
          "metadata": {},
          "execution_count": 7
        }
      ]
    },
    {
      "cell_type": "code",
      "metadata": {
        "colab": {
          "base_uri": "https://localhost:8080/",
          "height": 35
        },
        "id": "fT2cKuF5i3A6",
        "outputId": "7bece5e8-ef71-42e8-a000-8f27ca46accf"
      },
      "source": [
        "list.pop(0)"
      ],
      "execution_count": 11,
      "outputs": [
        {
          "output_type": "execute_result",
          "data": {
            "application/vnd.google.colaboratory.intrinsic+json": {
              "type": "string"
            },
            "text/plain": [
              "'10'"
            ]
          },
          "metadata": {},
          "execution_count": 11
        }
      ]
    },
    {
      "cell_type": "code",
      "metadata": {
        "colab": {
          "base_uri": "https://localhost:8080/"
        },
        "id": "SzzuLa7htyJ5",
        "outputId": "172fc5de-bacd-4a8f-812c-713f8da5d67e"
      },
      "source": [
        "list"
      ],
      "execution_count": 12,
      "outputs": [
        {
          "output_type": "execute_result",
          "data": {
            "text/plain": [
              "['20', '30']"
            ]
          },
          "metadata": {},
          "execution_count": 12
        }
      ]
    },
    {
      "cell_type": "code",
      "metadata": {
        "id": "PeuEacNatyMf"
      },
      "source": [
        "list.append(0)"
      ],
      "execution_count": 13,
      "outputs": []
    },
    {
      "cell_type": "code",
      "metadata": {
        "colab": {
          "base_uri": "https://localhost:8080/"
        },
        "id": "eW_tbB9WtyOn",
        "outputId": "bf5e4ca2-16eb-4068-c48c-9d1d386e038c"
      },
      "source": [
        "list"
      ],
      "execution_count": 14,
      "outputs": [
        {
          "output_type": "execute_result",
          "data": {
            "text/plain": [
              "['20', '30', 0]"
            ]
          },
          "metadata": {},
          "execution_count": 14
        }
      ]
    },
    {
      "cell_type": "code",
      "metadata": {
        "id": "QXFO5Kx2uDel"
      },
      "source": [
        "list.clear()"
      ],
      "execution_count": 15,
      "outputs": []
    },
    {
      "cell_type": "code",
      "metadata": {
        "colab": {
          "base_uri": "https://localhost:8080/"
        },
        "id": "WTThQciXuDhr",
        "outputId": "b16ca592-1b4c-41ba-dbc8-7f74f32eba0c"
      },
      "source": [
        "list"
      ],
      "execution_count": 16,
      "outputs": [
        {
          "output_type": "execute_result",
          "data": {
            "text/plain": [
              "[]"
            ]
          },
          "metadata": {},
          "execution_count": 16
        }
      ]
    },
    {
      "cell_type": "code",
      "metadata": {
        "id": "U7WLxxQuuDky"
      },
      "source": [
        "dict = {\"Name\":\"Ronit\", \"Surname\":\"Loke\", \"Laptop\":\"Dell\", \"Num\":\"10\"} "
      ],
      "execution_count": 19,
      "outputs": []
    },
    {
      "cell_type": "code",
      "metadata": {
        "colab": {
          "base_uri": "https://localhost:8080/"
        },
        "id": "P8joHvy3uDnn",
        "outputId": "57aa13aa-fe78-41d7-fd37-a2d891a71cd1"
      },
      "source": [
        "dict\n"
      ],
      "execution_count": 20,
      "outputs": [
        {
          "output_type": "execute_result",
          "data": {
            "text/plain": [
              "{'Laptop': 'Dell', 'Name': 'Ronit', 'Num': '10', 'Surname': 'Loke'}"
            ]
          },
          "metadata": {},
          "execution_count": 20
        }
      ]
    },
    {
      "cell_type": "code",
      "metadata": {
        "id": "wPDqILdXuDpg"
      },
      "source": [
        "dict.get(1)"
      ],
      "execution_count": 24,
      "outputs": []
    },
    {
      "cell_type": "code",
      "metadata": {
        "colab": {
          "base_uri": "https://localhost:8080/"
        },
        "id": "SXJMc03suDrR",
        "outputId": "26f1212b-8efd-4ad3-ccc2-f7d895329d0b"
      },
      "source": [
        "dict"
      ],
      "execution_count": 25,
      "outputs": [
        {
          "output_type": "execute_result",
          "data": {
            "text/plain": [
              "{'Laptop': 'Dell', 'Name': 'Ronit', 'Num': '10', 'Surname': 'Loke'}"
            ]
          },
          "metadata": {},
          "execution_count": 25
        }
      ]
    },
    {
      "cell_type": "code",
      "metadata": {
        "colab": {
          "base_uri": "https://localhost:8080/"
        },
        "id": "z3gmd5uduDwR",
        "outputId": "af6db3af-85e1-4c8f-d75b-be7e9488b47e"
      },
      "source": [
        "dict.keys()"
      ],
      "execution_count": 28,
      "outputs": [
        {
          "output_type": "execute_result",
          "data": {
            "text/plain": [
              "dict_keys(['Name', 'Surname', 'Laptop', 'Num'])"
            ]
          },
          "metadata": {},
          "execution_count": 28
        }
      ]
    },
    {
      "cell_type": "code",
      "metadata": {
        "colab": {
          "base_uri": "https://localhost:8080/"
        },
        "id": "qUZDO6IQuDyb",
        "outputId": "3e7bede2-398c-4509-b74a-e8cf1cd373f8"
      },
      "source": [
        "dict.items()"
      ],
      "execution_count": 29,
      "outputs": [
        {
          "output_type": "execute_result",
          "data": {
            "text/plain": [
              "dict_items([('Name', 'Ronit'), ('Surname', 'Loke'), ('Laptop', 'Dell'), ('Num', '10')])"
            ]
          },
          "metadata": {},
          "execution_count": 29
        }
      ]
    },
    {
      "cell_type": "code",
      "metadata": {
        "colab": {
          "base_uri": "https://localhost:8080/"
        },
        "id": "cwoNoP9AuD0Q",
        "outputId": "8857264c-289e-406a-9386-8475ff8e509a"
      },
      "source": [
        "dict.values()"
      ],
      "execution_count": 30,
      "outputs": [
        {
          "output_type": "execute_result",
          "data": {
            "text/plain": [
              "dict_values(['Ronit', 'Loke', 'Dell', '10'])"
            ]
          },
          "metadata": {},
          "execution_count": 30
        }
      ]
    },
    {
      "cell_type": "code",
      "metadata": {
        "id": "veS322BAuD3S"
      },
      "source": [
        "set = {1,1,1,2,2,3,3,3,\"Ronit\",\"nitin\"}"
      ],
      "execution_count": 32,
      "outputs": []
    },
    {
      "cell_type": "code",
      "metadata": {
        "colab": {
          "base_uri": "https://localhost:8080/"
        },
        "id": "jdhzjUZhuD6m",
        "outputId": "3872cbe8-0ee7-404a-e094-b003d68d76ed"
      },
      "source": [
        "set\n"
      ],
      "execution_count": 33,
      "outputs": [
        {
          "output_type": "execute_result",
          "data": {
            "text/plain": [
              "{1, 2, 3, 'Ronit', 'nitin'}"
            ]
          },
          "metadata": {},
          "execution_count": 33
        }
      ]
    },
    {
      "cell_type": "code",
      "metadata": {
        "colab": {
          "base_uri": "https://localhost:8080/"
        },
        "id": "iITig2X2EFHW",
        "outputId": "35365e0a-d394-4cef-d9b4-53c6d977d7d5"
      },
      "source": [
        "set.intersection()"
      ],
      "execution_count": 39,
      "outputs": [
        {
          "output_type": "execute_result",
          "data": {
            "text/plain": [
              "{1, 2, 3, 'Ronit', 'nitin'}"
            ]
          },
          "metadata": {},
          "execution_count": 39
        }
      ]
    },
    {
      "cell_type": "code",
      "metadata": {
        "colab": {
          "base_uri": "https://localhost:8080/"
        },
        "id": "NMtPuAm7EFJq",
        "outputId": "a1373bdd-9775-436b-8b99-d5878b82435b"
      },
      "source": [
        "set.difference()"
      ],
      "execution_count": 40,
      "outputs": [
        {
          "output_type": "execute_result",
          "data": {
            "text/plain": [
              "{1, 2, 3, 'Ronit', 'nitin'}"
            ]
          },
          "metadata": {},
          "execution_count": 40
        }
      ]
    },
    {
      "cell_type": "code",
      "metadata": {
        "id": "ZB9QXixUEFMX"
      },
      "source": [
        "tupple = (10, 20, \"ronit\",)"
      ],
      "execution_count": 41,
      "outputs": []
    },
    {
      "cell_type": "code",
      "metadata": {
        "colab": {
          "base_uri": "https://localhost:8080/"
        },
        "id": "o0L0yTfCEFPL",
        "outputId": "bfb5695f-6150-4a7f-b92f-11699c470bab"
      },
      "source": [
        "tupple"
      ],
      "execution_count": 42,
      "outputs": [
        {
          "output_type": "execute_result",
          "data": {
            "text/plain": [
              "(10, 20, 'ronit')"
            ]
          },
          "metadata": {},
          "execution_count": 42
        }
      ]
    },
    {
      "cell_type": "code",
      "metadata": {
        "colab": {
          "base_uri": "https://localhost:8080/"
        },
        "id": "e27_dCV4EFSi",
        "outputId": "ef6db3ba-cf5b-4717-d296-6466c2bd52a1"
      },
      "source": [
        "tupple.count(10)"
      ],
      "execution_count": 47,
      "outputs": [
        {
          "output_type": "execute_result",
          "data": {
            "text/plain": [
              "1"
            ]
          },
          "metadata": {},
          "execution_count": 47
        }
      ]
    },
    {
      "cell_type": "code",
      "metadata": {
        "colab": {
          "base_uri": "https://localhost:8080/"
        },
        "id": "HTpGqeqPtyQn",
        "outputId": "80b910d6-632b-49ac-c38a-764ab19d4700"
      },
      "source": [
        "tupple.index(\"ronit\")"
      ],
      "execution_count": 52,
      "outputs": [
        {
          "output_type": "execute_result",
          "data": {
            "text/plain": [
              "2"
            ]
          },
          "metadata": {},
          "execution_count": 52
        }
      ]
    },
    {
      "cell_type": "code",
      "metadata": {
        "id": "sgNyItPJGrJh"
      },
      "source": [
        "string = (\"sdc\", \"qwadxa\", \"aewcqw\")"
      ],
      "execution_count": 58,
      "outputs": []
    },
    {
      "cell_type": "code",
      "metadata": {
        "colab": {
          "base_uri": "https://localhost:8080/"
        },
        "id": "DZnDKc85GrMK",
        "outputId": "429044b4-e641-4ac7-9f10-135cee9e6094"
      },
      "source": [
        "string"
      ],
      "execution_count": 59,
      "outputs": [
        {
          "output_type": "execute_result",
          "data": {
            "text/plain": [
              "('sdc', 'qwadxa', 'aewcqw')"
            ]
          },
          "metadata": {},
          "execution_count": 59
        }
      ]
    },
    {
      "cell_type": "code",
      "metadata": {
        "colab": {
          "base_uri": "https://localhost:8080/"
        },
        "id": "s9qOAbB-GrOg",
        "outputId": "6c967bd3-787d-4e37-8665-5965df65a8ae"
      },
      "source": [
        "string.count(\"sdc\")"
      ],
      "execution_count": 60,
      "outputs": [
        {
          "output_type": "execute_result",
          "data": {
            "text/plain": [
              "1"
            ]
          },
          "metadata": {},
          "execution_count": 60
        }
      ]
    },
    {
      "cell_type": "code",
      "metadata": {
        "colab": {
          "base_uri": "https://localhost:8080/"
        },
        "id": "JKjB4xpxGrRT",
        "outputId": "4204c94f-16e7-4e36-b52a-2d2404118c62"
      },
      "source": [
        "string.index(\"sdc\")"
      ],
      "execution_count": 61,
      "outputs": [
        {
          "output_type": "execute_result",
          "data": {
            "text/plain": [
              "0"
            ]
          },
          "metadata": {},
          "execution_count": 61
        }
      ]
    },
    {
      "cell_type": "code",
      "metadata": {
        "id": "QlAjpGmyGrT8"
      },
      "source": [
        ""
      ],
      "execution_count": null,
      "outputs": []
    },
    {
      "cell_type": "code",
      "metadata": {
        "id": "qgmdrxBfGrXB"
      },
      "source": [
        ""
      ],
      "execution_count": null,
      "outputs": []
    },
    {
      "cell_type": "code",
      "metadata": {
        "id": "mIwMgY34tyT0"
      },
      "source": [
        ""
      ],
      "execution_count": null,
      "outputs": []
    }
  ]
}